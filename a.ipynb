{
 "cells": [
  {
   "cell_type": "code",
   "execution_count": 1,
   "id": "799aed31",
   "metadata": {},
   "outputs": [
    {
     "name": "stdout",
     "output_type": "stream",
     "text": [
      "Requirement already satisfied: kagglehub in /home/yasmws/miniconda3/envs/env/lib/python3.9/site-packages (0.3.12)\n",
      "Requirement already satisfied: packaging in /home/yasmws/miniconda3/envs/env/lib/python3.9/site-packages (from kagglehub) (24.1)\n",
      "Requirement already satisfied: pyyaml in /home/yasmws/miniconda3/envs/env/lib/python3.9/site-packages (from kagglehub) (6.0.1)\n",
      "Requirement already satisfied: requests in /home/yasmws/miniconda3/envs/env/lib/python3.9/site-packages (from kagglehub) (2.31.0)\n",
      "Requirement already satisfied: tqdm in /home/yasmws/miniconda3/envs/env/lib/python3.9/site-packages (from kagglehub) (4.66.5)\n",
      "Requirement already satisfied: charset-normalizer<4,>=2 in /home/yasmws/miniconda3/envs/env/lib/python3.9/site-packages (from requests->kagglehub) (2.1.1)\n",
      "Requirement already satisfied: idna<4,>=2.5 in /home/yasmws/miniconda3/envs/env/lib/python3.9/site-packages (from requests->kagglehub) (3.10)\n",
      "Requirement already satisfied: urllib3<3,>=1.21.1 in /home/yasmws/miniconda3/envs/env/lib/python3.9/site-packages (from requests->kagglehub) (1.26.20)\n",
      "Requirement already satisfied: certifi>=2017.4.17 in /home/yasmws/miniconda3/envs/env/lib/python3.9/site-packages (from requests->kagglehub) (2024.8.30)\n"
     ]
    },
    {
     "name": "stderr",
     "output_type": "stream",
     "text": [
      "/home/yasmws/miniconda3/envs/env/lib/python3.9/site-packages/tqdm/auto.py:21: TqdmWarning: IProgress not found. Please update jupyter and ipywidgets. See https://ipywidgets.readthedocs.io/en/stable/user_install.html\n",
      "  from .autonotebook import tqdm as notebook_tqdm\n"
     ]
    },
    {
     "name": "stdout",
     "output_type": "stream",
     "text": [
      "Downloading from https://www.kaggle.com/api/v1/datasets/download/flap1812/fisheye8k?dataset_version_number=1...\n"
     ]
    },
    {
     "name": "stderr",
     "output_type": "stream",
     "text": [
      "100%|██████████| 12.4G/12.4G [25:19<00:00, 8.79MB/s]   "
     ]
    },
    {
     "name": "stdout",
     "output_type": "stream",
     "text": [
      "Extracting files...\n"
     ]
    },
    {
     "name": "stderr",
     "output_type": "stream",
     "text": [
      "\n"
     ]
    },
    {
     "name": "stdout",
     "output_type": "stream",
     "text": [
      "Path to dataset files: /home/yasmws/.cache/kagglehub/datasets/flap1812/fisheye8k/versions/1\n"
     ]
    }
   ],
   "source": [
    "! pip install kagglehub --index-url https://pypi.org/simple\n",
    "import kagglehub\n",
    "\n",
    "# Download latest version\n",
    "path = kagglehub.dataset_download(\"flap1812/fisheye8k\")\n",
    "\n",
    "print(\"Path to dataset files:\", path)"
   ]
  },
  {
   "cell_type": "code",
   "execution_count": 2,
   "id": "02b0a3b0",
   "metadata": {},
   "outputs": [
    {
     "name": "stdout",
     "output_type": "stream",
     "text": [
      "Moved dataset to: /home/yasmws/Documentos/deeplearning/fisheye8k/FishEye8K/1\n"
     ]
    }
   ],
   "source": [
    "import shutil\n",
    "import os\n",
    "\n",
    "# Move the dataset folder to the current working directory\n",
    "dst = os.path.join(os.getcwd(), os.path.basename(path))\n",
    "shutil.move(path, dst)\n",
    "print(f\"Moved dataset to: {dst}\")"
   ]
  },
  {
   "cell_type": "code",
   "execution_count": null,
   "id": "2eadb0ef",
   "metadata": {},
   "outputs": [],
   "source": []
  }
 ],
 "metadata": {
  "kernelspec": {
   "display_name": "env",
   "language": "python",
   "name": "python3"
  },
  "language_info": {
   "codemirror_mode": {
    "name": "ipython",
    "version": 3
   },
   "file_extension": ".py",
   "mimetype": "text/x-python",
   "name": "python",
   "nbconvert_exporter": "python",
   "pygments_lexer": "ipython3",
   "version": "3.9.18"
  }
 },
 "nbformat": 4,
 "nbformat_minor": 5
}
